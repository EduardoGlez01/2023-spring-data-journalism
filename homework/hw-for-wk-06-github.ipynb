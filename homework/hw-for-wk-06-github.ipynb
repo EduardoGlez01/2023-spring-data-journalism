{
 "cells": [
  {
   "cell_type": "markdown",
   "id": "03d1b81e",
   "metadata": {},
   "source": [
    "# Project organziation\n",
    "\n",
    "You are reporting a project about uninsured wage workers who should actually be receiving insurance coverage. \n",
    "\n",
    "Invite me as a collaborator to your GitHub repo which should have the following elements:\n",
    "\n",
    "- An ```.ipybn``` file (more on this below```*```)\n",
    "- A data folder.\n",
    "- A ```.gitignore``` file that excludes data files\n",
    "- A ```README.md``` file that includes a link to the data on your ```google drive```.\n",
    "\n",
    "```*```  Your ```.ipybn``` file should have two cells (one that includes importing pandas, and another that that create a ```dataframe``` with some random data stored in the data folder.\n",
    "\n",
    "Run your notebook so the cells have outputs.\n",
    "\n",
    "Then share your repo with me via the homework filing system."
   ]
  },
  {
   "cell_type": "code",
   "execution_count": null,
   "id": "725d0560",
   "metadata": {},
   "outputs": [],
   "source": []
  }
 ],
 "metadata": {
  "kernelspec": {
   "display_name": "Python 3 (ipykernel)",
   "language": "python",
   "name": "python3"
  },
  "language_info": {
   "codemirror_mode": {
    "name": "ipython",
    "version": 3
   },
   "file_extension": ".py",
   "mimetype": "text/x-python",
   "name": "python",
   "nbconvert_exporter": "python",
   "pygments_lexer": "ipython3",
   "version": "3.9.7"
  }
 },
 "nbformat": 4,
 "nbformat_minor": 5
}
